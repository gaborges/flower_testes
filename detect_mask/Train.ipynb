{
 "cells": [
  {
   "cell_type": "code",
   "execution_count": 1,
   "id": "e19eeb96",
   "metadata": {},
   "outputs": [
    {
     "name": "stderr",
     "output_type": "stream",
     "text": [
      "2023-07-24 15:33:36.616099: I tensorflow/core/platform/cpu_feature_guard.cc:193] This TensorFlow binary is optimized with oneAPI Deep Neural Network Library (oneDNN) to use the following CPU instructions in performance-critical operations:  AVX2 FMA\n",
      "To enable them in other operations, rebuild TensorFlow with the appropriate compiler flags.\n",
      "2023-07-24 15:33:37.096532: E tensorflow/stream_executor/cuda/cuda_blas.cc:2981] Unable to register cuBLAS factory: Attempting to register factory for plugin cuBLAS when one has already been registered\n",
      "2023-07-24 15:33:38.149944: W tensorflow/stream_executor/platform/default/dso_loader.cc:64] Could not load dynamic library 'libnvinfer.so.7'; dlerror: libnvinfer.so.7: cannot open shared object file: No such file or directory; LD_LIBRARY_PATH: :/home/guilherme/cpu-tensorflow-marcelo/nvidia-smi/envs/tf/lib/\n",
      "2023-07-24 15:33:38.151958: W tensorflow/stream_executor/platform/default/dso_loader.cc:64] Could not load dynamic library 'libnvinfer_plugin.so.7'; dlerror: libnvinfer_plugin.so.7: cannot open shared object file: No such file or directory; LD_LIBRARY_PATH: :/home/guilherme/cpu-tensorflow-marcelo/nvidia-smi/envs/tf/lib/\n",
      "2023-07-24 15:33:38.151970: W tensorflow/compiler/tf2tensorrt/utils/py_utils.cc:38] TF-TRT Warning: Cannot dlopen some TensorRT libraries. If you would like to use Nvidia GPU with TensorRT, please make sure the missing libraries mentioned above are installed properly.\n"
     ]
    }
   ],
   "source": [
    "# pip install opencv-python\n",
    "#pip install imutils\n",
    "\n",
    "\n",
    "import os\n",
    "import zipfile\n",
    "import random\n",
    "import shutil\n",
    "import tensorflow as tf\n",
    "from tensorflow.keras.optimizers import RMSprop\n",
    "from tensorflow.keras.preprocessing.image import ImageDataGenerator\n",
    "from tensorflow.keras.callbacks import EarlyStopping,ReduceLROnPlateau\n",
    "from shutil import copyfile\n",
    "from os import getcwd\n",
    "from os import listdir\n",
    "import cv2\n",
    "from tensorflow.keras.layers import Conv2D, Input, ZeroPadding2D, BatchNormalization, Activation, MaxPooling2D, Flatten, Dense\n",
    "from tensorflow.keras.models import Model, load_model\n",
    "from tensorflow.keras.callbacks import TensorBoard, ModelCheckpoint\n",
    "from sklearn.model_selection import train_test_split\n",
    "from sklearn.metrics import f1_score\n",
    "from sklearn.utils import shuffle\n",
    "from sklearn.metrics import classification_report\n",
    "from sklearn.metrics import confusion_matrix\n",
    "import imutils\n",
    "import numpy as np\n",
    "import matplotlib.pyplot as plt\n",
    "import matplotlib.image  as mpimg\n",
    "import argparse\n",
    "import csv\n",
    "import pandas as pd\n"
   ]
  },
  {
   "cell_type": "code",
   "execution_count": 2,
   "id": "7c887a26",
   "metadata": {},
   "outputs": [],
   "source": [
    "\n",
    "# initialize the initial learning rate, number of epochs to train for,\n",
    "# and batch size\n",
    "INIT_LR = 1e-4 # mais um parâmetro para teste\n",
    "#EPOCHS = 100\n",
    "EPOCHS_DEFAULT = 15\n",
    "BS_DEFAULT = 32\n",
    "# batch-size\n",
    "BS = 32\n",
    "EPOCHS_PARAM = EPOCHS_DEFAULT\n",
    "\n",
    "plot_output_file = \"plot.png\"\n",
    "\n",
    "model_name = \"mask_detector_model\""
   ]
  },
  {
   "cell_type": "code",
   "execution_count": 3,
   "id": "e670375c",
   "metadata": {},
   "outputs": [
    {
     "name": "stderr",
     "output_type": "stream",
     "text": [
      "usage: ipykernel_launcher.py [-h] [-p PLOT] [-m MODEL] [-e EPOCHS]\n",
      "                             [-bs BATCH_SIZE] [-lr LEARNING_RATE]\n",
      "ipykernel_launcher.py: error: unrecognized arguments: -f /home/guilherme/.local/share/jupyter/runtime/kernel-5de150ae-35b7-4b4d-b603-f840ea05c3b3.json\n"
     ]
    },
    {
     "ename": "SystemExit",
     "evalue": "2",
     "output_type": "error",
     "traceback": [
      "An exception has occurred, use %tb to see the full traceback.\n",
      "\u001b[0;31mSystemExit\u001b[0m\u001b[0;31m:\u001b[0m 2\n"
     ]
    },
    {
     "name": "stderr",
     "output_type": "stream",
     "text": [
      "/home/guilherme/cpu-tensorflow-marcelo/nvidia-smi/envs/tf/lib/python3.9/site-packages/IPython/core/interactiveshell.py:3441: UserWarning: To exit: use 'exit', 'quit', or Ctrl-D.\n",
      "  warn(\"To exit: use 'exit', 'quit', or Ctrl-D.\", stacklevel=1)\n"
     ]
    }
   ],
   "source": [
    "# construct the argument parser and parse the arguments\n",
    "ap = argparse.ArgumentParser()\n",
    "#ap.add_argument(\"-d\", \"--dataset\", required=True,\n",
    "#\thelp=\"path to input dataset\")\n",
    "ap.add_argument(\"-p\", \"--plot\", type=str, default=\"plot.png\",\n",
    "\thelp=\"path to output loss/accuracy plot\")\n",
    "ap.add_argument(\"-m\", \"--model\", type=str,\n",
    "\tdefault=\"mask_detector.model\",\n",
    "\thelp=\"path to output face mask detector model\")\n",
    "ap.add_argument(\"-e\", \"--epochs\", type=int,\n",
    "\tdefault=\"30\",\n",
    "\thelp=\"quantity of epochs to learning\")\n",
    "ap.add_argument(\"-bs\", \"--batch_size\", type=int,\n",
    "\tdefault=\"32\",\n",
    "\thelp=\"batch size\")\n",
    "ap.add_argument(\"-lr\", \"--learning_rate\", type=int,\n",
    "\tdefault=\"-1\",\n",
    "\thelp=\"Learning rate [from 0.0 to 1.0]\")\n",
    "args = vars(ap.parse_args())"
   ]
  },
  {
   "cell_type": "code",
   "execution_count": 3,
   "id": "6aba1fdd",
   "metadata": {},
   "outputs": [],
   "source": [
    "# argumentos\n",
    "#EPOCHS_PARAM = args['epochs']\n",
    "#BS = args['batch_size']\n",
    "\n",
    "#if(args['learning_rate'] > 0.0):\n",
    "#    INIT_LR = args['learning_rate']"
   ]
  },
  {
   "cell_type": "code",
   "execution_count": 4,
   "id": "c43081f9",
   "metadata": {},
   "outputs": [],
   "source": [
    "def data_summary(main_path):\n",
    "    \n",
    "    yes_path = main_path+'with_mask'\n",
    "    no_path = main_path+'without_mask'\n",
    "        \n",
    "    # number of files (images) that are in the the folder named 'yes' that represent tumorous (positive) examples\n",
    "    m_pos = len(listdir(yes_path))\n",
    "    # number of files (images) that are in the the folder named 'no' that represent non-tumorous (negative) examples\n",
    "    m_neg = len(listdir(no_path))\n",
    "    # number of all examples\n",
    "    m = (m_pos+m_neg)\n",
    "    \n",
    "    pos_prec = (m_pos* 100.0)/ m\n",
    "    neg_prec = (m_neg* 100.0)/ m\n",
    "    \n",
    "    print(\"-------------------------------------------------\")\n",
    "    print(\"-------------------------------------------------\")\n",
    "    print(\"-------------------------------------------------\")\n",
    "    print(\"[INFO] Number of examples: {\",m,\"}\")\n",
    "    print(\"[INFO] Percentage of positive examples: {\",pos_prec,\"}, number of pos examples: {\",m_pos,\"}\") \n",
    "    print(\"[INFO] Percentage of negative examples: {\",neg_prec,\"}, number of neg examples: {\",m_neg,\"}\") \n",
    "    print(\"-------------------------------------------------\")\n",
    "    print(\"-------------------------------------------------\")\n",
    "    print(\"-------------------------------------------------\")"
   ]
  },
  {
   "cell_type": "code",
   "execution_count": 5,
   "id": "15c5a5ae",
   "metadata": {},
   "outputs": [
    {
     "name": "stdout",
     "output_type": "stream",
     "text": [
      "-------------------------------------------------\n",
      "-------------------------------------------------\n",
      "-------------------------------------------------\n",
      "[INFO] Number of examples: { 2476 }\n",
      "[INFO] Percentage of positive examples: { 48.66720516962843 }, number of pos examples: { 1205 }\n",
      "[INFO] Percentage of negative examples: { 51.33279483037157 }, number of neg examples: { 1271 }\n",
      "-------------------------------------------------\n",
      "-------------------------------------------------\n",
      "-------------------------------------------------\n"
     ]
    }
   ],
   "source": [
    "#augmented_data_path = 'facemask-dataset/trial1/augmented data1/' \n",
    "#augmented_data_path = 'data/'  \n",
    "#augmented_data_path = 'facemask-rodolfo/FaceMaskDataSet/' \n",
    "augmented_data_path = 'data/' \n",
    "# observations-master/experiements/test/\n",
    "data_summary(augmented_data_path)"
   ]
  },
  {
   "cell_type": "code",
   "execution_count": 6,
   "id": "8558db97",
   "metadata": {},
   "outputs": [
    {
     "name": "stdout",
     "output_type": "stream",
     "text": [
      "[INFO] prepering training images...\n",
      "Found 2341 images belonging to 2 classes.\n"
     ]
    }
   ],
   "source": [
    "print(\"[INFO] prepering training images...\")\n",
    "\n",
    "TRAINING_DIR = augmented_data_path+\"train\"\n",
    "\n",
    "train_datagen = ImageDataGenerator(rescale=1.0/255,\n",
    "                                   rotation_range=40,\n",
    "                                   width_shift_range=0.2,\n",
    "                                   height_shift_range=0.2,\n",
    "                                   shear_range=0.2,\n",
    "                                   zoom_range=0.2,\n",
    "                                   horizontal_flip=True,\n",
    "                                   fill_mode='nearest')\n",
    "\n",
    "train_generator = train_datagen.flow_from_directory(TRAINING_DIR, \n",
    "                                                    batch_size=BS, \n",
    "                                                    target_size=(224, 224))\n",
    "                            "
   ]
  },
  {
   "cell_type": "code",
   "execution_count": 7,
   "id": "5d647a40",
   "metadata": {},
   "outputs": [
    {
     "name": "stdout",
     "output_type": "stream",
     "text": [
      "[INFO] prepering test images...\n",
      "Found 981 images belonging to 2 classes.\n"
     ]
    }
   ],
   "source": [
    "print(\"[INFO] prepering test images...\")\n",
    "\n",
    "VALIDATION_DIR = augmented_data_path+\"test\"\n",
    "\n",
    "validation_datagen = ImageDataGenerator(rescale=1.0/255)\n",
    "\n",
    "validation_generator = validation_datagen.flow_from_directory(VALIDATION_DIR, \n",
    "                                                         batch_size=BS, \n",
    "                                                         target_size=(224, 224),\n",
    "                                                         shuffle=False)"
   ]
  },
  {
   "cell_type": "code",
   "execution_count": 8,
   "id": "68088fc8",
   "metadata": {},
   "outputs": [
    {
     "name": "stderr",
     "output_type": "stream",
     "text": [
      "2023-07-24 15:33:48.389610: I tensorflow/stream_executor/cuda/cuda_gpu_executor.cc:966] could not open file to read NUMA node: /sys/bus/pci/devices/0000:01:00.0/numa_node\n",
      "Your kernel may have been built without NUMA support.\n",
      "2023-07-24 15:33:48.448530: I tensorflow/stream_executor/cuda/cuda_gpu_executor.cc:966] could not open file to read NUMA node: /sys/bus/pci/devices/0000:01:00.0/numa_node\n",
      "Your kernel may have been built without NUMA support.\n",
      "2023-07-24 15:33:48.448827: I tensorflow/stream_executor/cuda/cuda_gpu_executor.cc:966] could not open file to read NUMA node: /sys/bus/pci/devices/0000:01:00.0/numa_node\n",
      "Your kernel may have been built without NUMA support.\n",
      "2023-07-24 15:33:48.449940: I tensorflow/core/platform/cpu_feature_guard.cc:193] This TensorFlow binary is optimized with oneAPI Deep Neural Network Library (oneDNN) to use the following CPU instructions in performance-critical operations:  AVX2 FMA\n",
      "To enable them in other operations, rebuild TensorFlow with the appropriate compiler flags.\n",
      "2023-07-24 15:33:48.453145: I tensorflow/stream_executor/cuda/cuda_gpu_executor.cc:966] could not open file to read NUMA node: /sys/bus/pci/devices/0000:01:00.0/numa_node\n",
      "Your kernel may have been built without NUMA support.\n",
      "2023-07-24 15:33:48.453615: I tensorflow/stream_executor/cuda/cuda_gpu_executor.cc:966] could not open file to read NUMA node: /sys/bus/pci/devices/0000:01:00.0/numa_node\n",
      "Your kernel may have been built without NUMA support.\n",
      "2023-07-24 15:33:48.453965: I tensorflow/stream_executor/cuda/cuda_gpu_executor.cc:966] could not open file to read NUMA node: /sys/bus/pci/devices/0000:01:00.0/numa_node\n",
      "Your kernel may have been built without NUMA support.\n",
      "2023-07-24 15:33:49.632811: I tensorflow/stream_executor/cuda/cuda_gpu_executor.cc:966] could not open file to read NUMA node: /sys/bus/pci/devices/0000:01:00.0/numa_node\n",
      "Your kernel may have been built without NUMA support.\n",
      "2023-07-24 15:33:49.633454: I tensorflow/stream_executor/cuda/cuda_gpu_executor.cc:966] could not open file to read NUMA node: /sys/bus/pci/devices/0000:01:00.0/numa_node\n",
      "Your kernel may have been built without NUMA support.\n",
      "2023-07-24 15:33:49.633471: I tensorflow/core/common_runtime/gpu/gpu_device.cc:1700] Could not identify NUMA node of platform GPU id 0, defaulting to 0.  Your kernel may not have been built with NUMA support.\n",
      "2023-07-24 15:33:49.633726: I tensorflow/stream_executor/cuda/cuda_gpu_executor.cc:966] could not open file to read NUMA node: /sys/bus/pci/devices/0000:01:00.0/numa_node\n",
      "Your kernel may have been built without NUMA support.\n",
      "2023-07-24 15:33:49.633774: I tensorflow/core/common_runtime/gpu/gpu_device.cc:1616] Created device /job:localhost/replica:0/task:0/device:GPU:0 with 3421 MB memory:  -> device: 0, name: NVIDIA GeForce RTX 3060 Laptop GPU, pci bus id: 0000:01:00.0, compute capability: 8.6\n"
     ]
    }
   ],
   "source": [
    "model = tf.keras.models.Sequential([\n",
    "    tf.keras.layers.Conv2D(100, (3,3), activation='relu', input_shape=(224, 224, 3)),\n",
    "    tf.keras.layers.MaxPooling2D(2,2),\n",
    "    \n",
    "    tf.keras.layers.Conv2D(100, (3,3), activation='relu'),\n",
    "    tf.keras.layers.MaxPooling2D(2,2),\n",
    "    \n",
    "    tf.keras.layers.Flatten(),\n",
    "    tf.keras.layers.Dropout(0.5),\n",
    "    tf.keras.layers.Dense(50, activation='relu'),\n",
    "    tf.keras.layers.Dense(2, activation='softmax')\n",
    "])"
   ]
  },
  {
   "cell_type": "code",
   "execution_count": 9,
   "id": "421526ef",
   "metadata": {},
   "outputs": [
    {
     "name": "stdout",
     "output_type": "stream",
     "text": [
      "[INFO] compiling model...\n",
      "[INFO] summary of the compiled model...\n",
      "Model: \"sequential\"\n",
      "_________________________________________________________________\n",
      " Layer (type)                Output Shape              Param #   \n",
      "=================================================================\n",
      " conv2d (Conv2D)             (None, 222, 222, 100)     2800      \n",
      "                                                                 \n",
      " max_pooling2d (MaxPooling2D  (None, 111, 111, 100)    0         \n",
      " )                                                               \n",
      "                                                                 \n",
      " conv2d_1 (Conv2D)           (None, 109, 109, 100)     90100     \n",
      "                                                                 \n",
      " max_pooling2d_1 (MaxPooling  (None, 54, 54, 100)      0         \n",
      " 2D)                                                             \n",
      "                                                                 \n",
      " flatten (Flatten)           (None, 291600)            0         \n",
      "                                                                 \n",
      " dropout (Dropout)           (None, 291600)            0         \n",
      "                                                                 \n",
      " dense (Dense)               (None, 50)                14580050  \n",
      "                                                                 \n",
      " dense_1 (Dense)             (None, 2)                 102       \n",
      "                                                                 \n",
      "=================================================================\n",
      "Total params: 14,673,052\n",
      "Trainable params: 14,673,052\n",
      "Non-trainable params: 0\n",
      "_________________________________________________________________\n",
      "\n"
     ]
    }
   ],
   "source": [
    "# compile our model\n",
    "print(\"[INFO] compiling model...\")\n",
    "#opt = Adam(lr=INIT_LR, decay=INIT_LR / EPOCHS)\n",
    "#model.compile(optimizer='adam', loss='binary_crossentropy', metrics=['acc']) # usado com duas classes\n",
    "model.compile(loss=\"categorical_crossentropy\", optimizer='adam',metrics=[\"acc\"]) # usado com duas ou mais classes\n",
    "\n",
    "print(\"[INFO] summary of the compiled model...\")\n",
    "model.summary()\n",
    "print(\"\")"
   ]
  },
  {
   "cell_type": "code",
   "execution_count": 10,
   "id": "1dd00033",
   "metadata": {},
   "outputs": [
    {
     "name": "stdout",
     "output_type": "stream",
     "text": [
      "\n",
      "[INFO] summary of the processed classes:\n",
      "{0: 'with_mask', 1: 'without_mask'}\n",
      "\n",
      "Nome classes:  ['with_mask', 'without_mask']\n",
      "Índice classes:  [0, 1]\n"
     ]
    }
   ],
   "source": [
    "# classes encontradas\n",
    "print(\"\\n[INFO] summary of the processed classes:\")\n",
    "nome_classes = []\n",
    "valoresReais = []\n",
    "labels = (validation_generator.class_indices)\n",
    "for k,v in labels.items():\n",
    "    nome_classes.append(k)\n",
    "    valoresReais.append(v)\n",
    "#print(labels,' ',nome_classes)\n",
    "labels = dict((v,k) for k,v in labels.items())\n",
    "print(labels)\n",
    "print(\"\\nNome classes: \",nome_classes)\n",
    "print(\"Índice classes: \",valoresReais)"
   ]
  },
  {
   "cell_type": "code",
   "execution_count": 11,
   "id": "1f697e54",
   "metadata": {},
   "outputs": [
    {
     "name": "stdout",
     "output_type": "stream",
     "text": [
      "\n",
      "[INFO] Preparing callbacks ...\n"
     ]
    }
   ],
   "source": [
    "# preparar os callbacks\n",
    "print(\"\\n[INFO] Preparing callbacks ...\")\n",
    "checkpoint = ModelCheckpoint('model-{epoch:03d}.model',monitor='val_loss',verbose=0,save_best_only=True,mode='auto')\n",
    "#early = EarlyStopping(monitor='val_loss', min_delta=0, patience=5, verbose=1, mode='auto')\n",
    "early = EarlyStopping(monitor='val_loss', min_delta=0, patience=0, verbose=0, mode='auto',baseline=None,restore_best_weights=False)\n",
    "reduce = ReduceLROnPlateau(monitor='val_loss', factor=0.5, patience=3, verbose=1, mode='auto', min_lr=0.00001)"
   ]
  },
  {
   "cell_type": "code",
   "execution_count": 12,
   "id": "9b39420b",
   "metadata": {},
   "outputs": [
    {
     "name": "stdout",
     "output_type": "stream",
     "text": [
      "[INFO] Genereting model ...\n",
      "Epoch 1/15\n"
     ]
    },
    {
     "name": "stderr",
     "output_type": "stream",
     "text": [
      "2023-07-24 15:33:55.258120: I tensorflow/stream_executor/cuda/cuda_dnn.cc:384] Loaded cuDNN version 8201\n",
      "2023-07-24 15:33:58.001849: I tensorflow/core/platform/default/subprocess.cc:304] Start cannot spawn child process: No such file or directory\n",
      "2023-07-24 15:33:58.438571: W tensorflow/core/common_runtime/bfc_allocator.cc:290] Allocator (GPU_0_bfc) ran out of memory trying to allocate 1.59GiB with freed_by_count=0. The caller indicates that this is not a failure, but this may mean that there could be performance gains if more memory were available.\n",
      "2023-07-24 15:33:58.440290: W tensorflow/core/common_runtime/bfc_allocator.cc:290] Allocator (GPU_0_bfc) ran out of memory trying to allocate 1.59GiB with freed_by_count=0. The caller indicates that this is not a failure, but this may mean that there could be performance gains if more memory were available.\n",
      "2023-07-24 15:33:58.493393: W tensorflow/core/common_runtime/bfc_allocator.cc:290] Allocator (GPU_0_bfc) ran out of memory trying to allocate 1.40GiB with freed_by_count=0. The caller indicates that this is not a failure, but this may mean that there could be performance gains if more memory were available.\n",
      "2023-07-24 15:33:58.493497: W tensorflow/core/common_runtime/bfc_allocator.cc:290] Allocator (GPU_0_bfc) ran out of memory trying to allocate 1.40GiB with freed_by_count=0. The caller indicates that this is not a failure, but this may mean that there could be performance gains if more memory were available.\n",
      "2023-07-24 15:34:00.974929: I tensorflow/stream_executor/cuda/cuda_blas.cc:1614] TensorFloat-32 will be used for the matrix multiplication. This will only be logged once.\n"
     ]
    },
    {
     "name": "stdout",
     "output_type": "stream",
     "text": [
      "74/74 [==============================] - 67s 773ms/step - loss: 0.8172 - acc: 0.6694 - val_loss: 0.4093 - val_acc: 0.8430\n",
      "Epoch 2/15\n",
      "74/74 [==============================] - 43s 576ms/step - loss: 0.4990 - acc: 0.7582 - val_loss: 0.3530 - val_acc: 0.8542\n",
      "Epoch 3/15\n",
      "74/74 [==============================] - 37s 503ms/step - loss: 0.4977 - acc: 0.7565 - val_loss: 0.3183 - val_acc: 0.8767\n",
      "Epoch 4/15\n",
      "74/74 [==============================] - 36s 481ms/step - loss: 0.4803 - acc: 0.7685 - val_loss: 0.2982 - val_acc: 0.8960\n",
      "Epoch 5/15\n",
      "74/74 [==============================] - 36s 488ms/step - loss: 0.4628 - acc: 0.7706 - val_loss: 0.2690 - val_acc: 0.8960\n",
      "Epoch 6/15\n",
      "74/74 [==============================] - 36s 481ms/step - loss: 0.4213 - acc: 0.8001 - val_loss: 0.2513 - val_acc: 0.9042\n",
      "Epoch 7/15\n",
      "74/74 [==============================] - 36s 481ms/step - loss: 0.4092 - acc: 0.8232 - val_loss: 0.3407 - val_acc: 0.8644\n",
      "Epoch 8/15\n",
      "74/74 [==============================] - 36s 479ms/step - loss: 0.4311 - acc: 0.7851 - val_loss: 0.2725 - val_acc: 0.9052\n",
      "Epoch 9/15\n",
      "74/74 [==============================] - 35s 475ms/step - loss: 0.4254 - acc: 0.8155 - val_loss: 0.2924 - val_acc: 0.8869\n",
      "Epoch 10/15\n",
      "74/74 [==============================] - 37s 501ms/step - loss: 0.3986 - acc: 0.8163 - val_loss: 0.2179 - val_acc: 0.9185\n",
      "Epoch 11/15\n",
      "74/74 [==============================] - 37s 497ms/step - loss: 0.3905 - acc: 0.8232 - val_loss: 0.2357 - val_acc: 0.9052\n",
      "Epoch 12/15\n",
      "74/74 [==============================] - 37s 493ms/step - loss: 0.3630 - acc: 0.8381 - val_loss: 0.2220 - val_acc: 0.9215\n",
      "Epoch 13/15\n",
      "74/74 [==============================] - 37s 500ms/step - loss: 0.3554 - acc: 0.8432 - val_loss: 0.1979 - val_acc: 0.9327\n",
      "Epoch 14/15\n",
      "74/74 [==============================] - 37s 491ms/step - loss: 0.3544 - acc: 0.8492 - val_loss: 0.2057 - val_acc: 0.9297\n",
      "Epoch 15/15\n",
      "74/74 [==============================] - 37s 498ms/step - loss: 0.3611 - acc: 0.8445 - val_loss: 0.2201 - val_acc: 0.9205\n"
     ]
    }
   ],
   "source": [
    "\n",
    "# gerar o modelo de aprendizagem\n",
    "print(\"[INFO] Genereting model ...\")\n",
    "history = model.fit(train_generator,\n",
    "                      epochs=EPOCHS_PARAM,\n",
    "                      validation_data=validation_generator,\n",
    "                      callbacks=[]) #callbacks=[checkpoint,early])"
   ]
  },
  {
   "cell_type": "code",
   "execution_count": 13,
   "id": "2303aca0",
   "metadata": {},
   "outputs": [
    {
     "name": "stdout",
     "output_type": "stream",
     "text": [
      "[INFO] saving mask detector model in  mask_detector_model ...\n"
     ]
    },
    {
     "name": "stderr",
     "output_type": "stream",
     "text": [
      "WARNING:absl:Found untraced functions such as _jit_compiled_convolution_op, _jit_compiled_convolution_op while saving (showing 2 of 2). These functions will not be directly callable after loading.\n"
     ]
    },
    {
     "name": "stdout",
     "output_type": "stream",
     "text": [
      "INFO:tensorflow:Assets written to: mask_detector_model/assets\n"
     ]
    },
    {
     "name": "stderr",
     "output_type": "stream",
     "text": [
      "INFO:tensorflow:Assets written to: mask_detector_model/assets\n"
     ]
    }
   ],
   "source": [
    "# serialize the model to disk\n",
    "print(\"[INFO] saving mask detector model in \",model_name,\"...\")\n",
    "model.save(model_name); #funciona só no linux\n",
    "#model.save(model_name, save_format=\"h5\") #funciona só no windows"
   ]
  },
  {
   "cell_type": "code",
   "execution_count": 18,
   "id": "54c7bfc8",
   "metadata": {},
   "outputs": [
    {
     "name": "stderr",
     "output_type": "stream",
     "text": [
      "WARNING:absl:Found untraced functions such as _jit_compiled_convolution_op, _jit_compiled_convolution_op while saving (showing 2 of 2). These functions will not be directly callable after loading.\n"
     ]
    },
    {
     "name": "stdout",
     "output_type": "stream",
     "text": [
      "INFO:tensorflow:Assets written to: /tmp/tmp8ysha_8y/assets\n"
     ]
    },
    {
     "name": "stderr",
     "output_type": "stream",
     "text": [
      "INFO:tensorflow:Assets written to: /tmp/tmp8ysha_8y/assets\n",
      "2023-07-24 16:07:11.897745: W tensorflow/compiler/mlir/lite/python/tf_tfl_flatbuffer_helpers.cc:362] Ignored output_format.\n",
      "2023-07-24 16:07:11.899429: W tensorflow/compiler/mlir/lite/python/tf_tfl_flatbuffer_helpers.cc:365] Ignored drop_control_dependency.\n",
      "2023-07-24 16:07:11.905517: I tensorflow/cc/saved_model/reader.cc:45] Reading SavedModel from: /tmp/tmp8ysha_8y\n",
      "2023-07-24 16:07:11.908551: I tensorflow/cc/saved_model/reader.cc:89] Reading meta graph with tags { serve }\n",
      "2023-07-24 16:07:11.908584: I tensorflow/cc/saved_model/reader.cc:130] Reading SavedModel debug info (if present) from: /tmp/tmp8ysha_8y\n",
      "2023-07-24 16:07:11.915321: I tensorflow/compiler/mlir/mlir_graph_optimization_pass.cc:354] MLIR V1 optimization pass is not enabled\n",
      "2023-07-24 16:07:11.916579: I tensorflow/cc/saved_model/loader.cc:229] Restoring SavedModel bundle.\n",
      "2023-07-24 16:07:12.521501: I tensorflow/cc/saved_model/loader.cc:213] Running initialization op on SavedModel bundle at path: /tmp/tmp8ysha_8y\n",
      "2023-07-24 16:07:12.531510: I tensorflow/cc/saved_model/loader.cc:305] SavedModel load for tags { serve }; Status: success: OK. Took 626782 microseconds.\n",
      "2023-07-24 16:07:12.593068: I tensorflow/compiler/mlir/tensorflow/utils/dump_mlir_util.cc:268] disabling MLIR crash reproducer, set env var `MLIR_CRASH_REPRODUCER_DIRECTORY` to enable.\n"
     ]
    }
   ],
   "source": [
    "# Convert the model.\n",
    "converter = tf.lite.TFLiteConverter.from_keras_model(model)\n",
    "tflite_model = converter.convert()\n",
    "\n",
    "# Save the model.\n",
    "with open('model.tflite', 'wb') as f:\n",
    "    f.write(tflite_model)"
   ]
  },
  {
   "cell_type": "code",
   "execution_count": null,
   "id": "2081d86b",
   "metadata": {},
   "outputs": [],
   "source": []
  },
  {
   "cell_type": "code",
   "execution_count": 14,
   "id": "1c6c731a",
   "metadata": {},
   "outputs": [
    {
     "name": "stdout",
     "output_type": "stream",
     "text": [
      "[INFO] evaluating the network...\n",
      "30/30 [==============================] - 7s 206ms/step - loss: 0.2108 - acc: 0.9229\n"
     ]
    },
    {
     "data": {
      "text/plain": [
       "[0.21084250509738922, 0.9229166507720947]"
      ]
     },
     "execution_count": 14,
     "metadata": {},
     "output_type": "execute_result"
    }
   ],
   "source": [
    "print(\"[INFO] evaluating the network...\")\n",
    "#avaliador de gerador\n",
    "STEP_SIZE_VALID=validation_generator.n//validation_generator.batch_size\n",
    "res = model.evaluate(validation_generator,steps=STEP_SIZE_VALID)\n",
    "\n",
    "res"
   ]
  },
  {
   "cell_type": "code",
   "execution_count": 15,
   "id": "e7e149a4",
   "metadata": {},
   "outputs": [
    {
     "name": "stdout",
     "output_type": "stream",
     "text": [
      "31/31 [==============================] - 7s 215ms/step\n"
     ]
    }
   ],
   "source": [
    "# make predictions on the testing set\n",
    "classificacoesPreditas = model.predict(validation_generator, batch_size=BS)\n",
    "#print (classificacoesPreditas)\n",
    "# for each image in the testing set we need to find the index of the\n",
    "# label with corresponding largest predicted probability\n",
    "classificacoesPreditas = np.argmax(classificacoesPreditas, axis=1)\n",
    "classificacoesVerdadeiras = validation_generator.classes[validation_generator.index_array]\n",
    "#print(\"Classificações verdadeiras:\\n\",classificacoesVerdadeiras)\n",
    "#print(\"--\")\n",
    "#print (\"Classificações preditivas:\\n\",classificacoesPreditas)"
   ]
  },
  {
   "cell_type": "code",
   "execution_count": 16,
   "id": "cb853cbe",
   "metadata": {},
   "outputs": [
    {
     "name": "stdout",
     "output_type": "stream",
     "text": [
      "\n",
      "[INFO] Saving classification Report...\n",
      "              precision    recall  f1-score     support\n",
      "with_mask      0.894841  0.947479  0.920408  476.000000\n",
      "without_mask   0.947589  0.895050  0.920570  505.000000\n",
      "accuracy       0.920489  0.920489  0.920489    0.920489\n",
      "macro avg      0.921215  0.921264  0.920489  981.000000\n",
      "weighted avg   0.921995  0.920489  0.920492  981.000000\n"
     ]
    }
   ],
   "source": [
    "print(\"\\n[INFO] Saving classification Report...\")\n",
    "# >>> print(classification_report(y_true, y_pred, target_names=target_names))\n",
    "# show a nicely formatted classification report\n",
    "relatorio = classification_report(classificacoesVerdadeiras, classificacoesPreditas,\n",
    "                                  target_names=nome_classes, output_dict=True)\n",
    "df = pd.DataFrame(relatorio).transpose()\n",
    "df.to_csv(model_name+'_classification_report.csv', index = False, sep=';', encoding='utf-8')\n",
    "# imprime relatório\n",
    "print(df)"
   ]
  },
  {
   "cell_type": "code",
   "execution_count": 17,
   "id": "9c238ead",
   "metadata": {},
   "outputs": [
    {
     "name": "stdout",
     "output_type": "stream",
     "text": [
      "\n",
      "[INFO] plotting stats...\n"
     ]
    },
    {
     "data": {
      "image/png": "[encoded data removed]",
      "text/plain": [
       "<Figure size 640x480 with 1 Axes>"
      ]
     },
     "metadata": {},
     "output_type": "display_data"
    }
   ],
   "source": [
    "# plot the training loss and accuracy\n",
    "print(\"\\n[INFO] plotting stats...\")\n",
    "#N = EPOCHS_PARAM\n",
    "N = len(history.history[\"loss\"])\n",
    "plt.style.use(\"ggplot\")\n",
    "plt.figure()\n",
    "plt.plot(np.arange(0, N), history.history[\"loss\"], label=\"train_loss\")\n",
    "plt.plot(np.arange(0, N), history.history[\"val_loss\"], label=\"val_loss\")\n",
    "#plt.plot(np.arange(0, N), history.history[\"accuracy\"], label=\"train_acc\")\n",
    "plt.plot(np.arange(0, N), history.history[\"acc\"], label=\"train_acc\")\n",
    "#plt.plot(np.arange(0, N), history.history[\"val_accuracy\"], label=\"val_acc\")\n",
    "plt.plot(np.arange(0, N), history.history[\"val_acc\"], label=\"val_acc\")\n",
    "plt.title(\"Training Loss and Accuracy\")\n",
    "plt.xlabel(\"Epoch #\")\n",
    "plt.ylabel(\"Loss/Accuracy\")\n",
    "plt.legend(loc=\"lower left\")\n",
    "plt.savefig(plot_output_file)\n",
    "\n",
    "plt.show()"
   ]
  },
  {
   "cell_type": "code",
   "execution_count": null,
   "id": "015fdaf5",
   "metadata": {},
   "outputs": [],
   "source": []
  }
 ],
 "metadata": {
  "kernelspec": {
   "display_name": "Python 3 (ipykernel)",
   "language": "python",
   "name": "python3"
  },
  "language_info": {
   "codemirror_mode": {
    "name": "ipython",
    "version": 3
   },
   "file_extension": ".py",
   "mimetype": "text/x-python",
   "name": "python",
   "nbconvert_exporter": "python",
   "pygments_lexer": "ipython3",
   "version": "3.9.15"
  }
 },
 "nbformat": 4,
 "nbformat_minor": 5
}
